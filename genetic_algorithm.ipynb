{
 "cells": [
  {
   "cell_type": "code",
   "execution_count": 1,
   "id": "dbd58b3c",
   "metadata": {},
   "outputs": [],
   "source": [
    "from random import choices, randint, randrange, random, sample\n",
    "from typing import List, Optional, Callable, Tuple"
   ]
  },
  {
   "cell_type": "code",
   "execution_count": 24,
   "id": "723a8cba",
   "metadata": {},
   "outputs": [],
   "source": [
    "Genome = List[int]\n",
    "Population = List[Genome]\n",
    "Populate_function = Callable[[], Population]\n",
    "Fitness_function = Callable[[Genome], int]\n",
    "Selection_function = Callable[[Population, Fitness_function], Tuple[Genome, Genome]]\n",
    "Crossover_function = Callable[[Genome, Genome], Tuple[Genome, Genome]]\n",
    "Mutation_function = Callable[[Genome], Genome]\n",
    "Printer_function = Callable[[Population, int, Fitness_function], None]"
   ]
  },
  {
   "cell_type": "code",
   "execution_count": 4,
   "id": "6ad54afb",
   "metadata": {},
   "outputs": [],
   "source": [
    "def generate_genome(length: int) -> Genome:\n",
    "    return choices([0,1], k = length)"
   ]
  },
  {
   "cell_type": "code",
   "execution_count": 8,
   "id": "da4e3c93",
   "metadata": {},
   "outputs": [],
   "source": [
    "def generate_population(size: int, genome_length: int) -> Population:\n",
    "    return [generate_genome(genome_length) for _ in range(size)]"
   ]
  },
  {
   "cell_type": "markdown",
   "id": "2015d100",
   "metadata": {},
   "source": []
  },
  {
   "cell_type": "code",
   "execution_count": 9,
   "id": "317dbc6f",
   "metadata": {},
   "outputs": [],
   "source": [
    "def single_point_crossover(a: Genome, b: Genome) -> Tuple[Genome, Genome]:\n",
    "    if len(a) != len(b):\n",
    "        raise ValueError('Their lengths must be the same')\n",
    "     \n",
    "    length = len(a)\n",
    "    if length == 2:\n",
    "        return a,b\n",
    "    \n",
    "    p = randint(1, length - 1)\n",
    "    return a[0:p] + b[p:], b[0:p] + a[p:]"
   ]
  },
  {
   "cell_type": "code",
   "execution_count": 10,
   "id": "e07cbe28",
   "metadata": {},
   "outputs": [],
   "source": [
    "def mutation(genome: Genome, num: int = 1, probability: float = 0.5) -> Genome:\n",
    "    for _ in range(num):\n",
    "        index = randrange(len(genome))\n",
    "        genome[index] = genome[index] if random() > probability else abs(genome[index] - 1)\n",
    "    return genome"
   ]
  },
  {
   "cell_type": "code",
   "execution_count": 15,
   "id": "33d2a438",
   "metadata": {},
   "outputs": [],
   "source": [
    "def popultaion_fitness(genome: Genome, fitness_func: Fitness_function) -> int:\n",
    "    return sum(fitness_func(genome) for genome in Popultaion)"
   ]
  },
  {
   "cell_type": "code",
   "execution_count": 18,
   "id": "1904db5f",
   "metadata": {},
   "outputs": [],
   "source": [
    "def selection_pair(population: Population, fitness_func: Fitness_function) -> Population:\n",
    "    return sample(\n",
    "    population = generate_weighted_distribution(population, fitness_func), k = 2)"
   ]
  },
  {
   "cell_type": "code",
   "execution_count": 19,
   "id": "5695fbbb",
   "metadata": {},
   "outputs": [],
   "source": [
    "def generate_weighted_distribution(population: Population, fitness_func: Fitness_function) -> Population:\n",
    "    result = []\n",
    "    \n",
    "    for gene in population:\n",
    "        result += [gene] * int(fitness_func(gene) + 1)\n",
    "        \n",
    "    return result"
   ]
  },
  {
   "cell_type": "code",
   "execution_count": 20,
   "id": "fcc114c9",
   "metadata": {},
   "outputs": [],
   "source": [
    "def sort_population(population: Population, fitness_func: Fitness_function) -> Population:\n",
    "    return sorted(population, key = fitness_func, reverse=True)"
   ]
  },
  {
   "cell_type": "code",
   "execution_count": 21,
   "id": "9820d0cb",
   "metadata": {},
   "outputs": [],
   "source": [
    "def genome_to_string(genome: Genome) -> str:\n",
    "    return \"\".join(map(str, genome))"
   ]
  },
  {
   "cell_type": "code",
   "execution_count": 23,
   "id": "1ca1f049",
   "metadata": {},
   "outputs": [],
   "source": [
    "def print_stats(population: Population, generation_id: int, fitness_func: Fitness_function):\n",
    "    \n",
    "    print(\"GENERATION %02d\" % generation_id)\n",
    "    print(\"=============\")\n",
    "    print(\"Population: [%s]\" % \", \".join([genome_to_string(gene) for gene in population]))\n",
    "    print(\"Avg. Fitness: %f\" % (population_fitness(population, fitness_func) / len(population)))\n",
    "    sorted_population = sort_population(population, fitness_func)\n",
    "    print(\"Best: %s (%f)\" % (genome_to_string(sorted_population[0]), fitness_func(sorted_population[0])))\n",
    "    print(\"Worst: %s (%f)\" % (genome_to_string(sorted_population[-1]),\n",
    "                              fitness_func(sorted_population[-1])))\n",
    "    print(\"\")\n",
    "\n",
    "    return sorted_population[0]\n"
   ]
  },
  {
   "cell_type": "code",
   "execution_count": 27,
   "id": "4e752c46",
   "metadata": {},
   "outputs": [],
   "source": [
    "def run_evolution(\n",
    "                populate_func: Populate_function,\n",
    "                fitness_func: Fitness_function,\n",
    "                fitness_limit: int,\n",
    "                selection_func: Selection_function = selection_pair,\n",
    "                crossover_func: Crossover_function = single_point_crossover,\n",
    "                mutation_func: Mutation_function = mutation,\n",
    "                generation_limit: int=100,\n",
    "                printer: Optional[Printer_function] = None) -> Tuple[Population, int]:\n",
    "    \n",
    "    population = populate_func()\n",
    "    \n",
    "    i = 0\n",
    "    for i in range(generation_limit):\n",
    "        population = sorted(population, key=lambda genome: fitness_func(genome), reverse=True)\n",
    "        \n",
    "        if printer is not None:\n",
    "            printer(population, i, fitness_func)\n",
    "            \n",
    "        if fitness_func(population[0]) >= fitness_limit:\n",
    "            break\n",
    "        \n",
    "        next_generation = population[0:2]\n",
    "        \n",
    "        for j in range(int(len(population)/2) - 1):\n",
    "            parents = selection_func(population, fitness_func)\n",
    "            offspring_A, offspring_B = crossover_func(parents[0], parents[1])\n",
    "            offspring_A = mutation_func(offspring_A)\n",
    "            offspring_B = mutation_func(offspring_B)\n",
    "            \n",
    "            next_generation += [offspring_A, ofsspring_B]\n",
    "            \n",
    "        population = next_generation\n",
    "        \n",
    "    return population, i "
   ]
  },
  {
   "cell_type": "code",
   "execution_count": null,
   "id": "954eadc2",
   "metadata": {},
   "outputs": [],
   "source": []
  }
 ],
 "metadata": {
  "kernelspec": {
   "display_name": "Python 3",
   "language": "python",
   "name": "python3"
  },
  "language_info": {
   "codemirror_mode": {
    "name": "ipython",
    "version": 3
   },
   "file_extension": ".py",
   "mimetype": "text/x-python",
   "name": "python",
   "nbconvert_exporter": "python",
   "pygments_lexer": "ipython3",
   "version": "3.8.10"
  }
 },
 "nbformat": 4,
 "nbformat_minor": 5
}
